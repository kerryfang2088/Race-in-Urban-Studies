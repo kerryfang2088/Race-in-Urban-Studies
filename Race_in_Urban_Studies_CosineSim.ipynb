{
 "cells": [
  {
   "cell_type": "code",
   "execution_count": null,
   "id": "97dc8c7a-8f23-4239-8046-1d1454f8ca4b",
   "metadata": {},
   "outputs": [],
   "source": [
    "import gensim.downloader as api\n",
    "from sklearn.metrics.pairwise import cosine_similarity\n",
    "import numpy as np"
   ]
  },
  {
   "cell_type": "code",
   "execution_count": null,
   "id": "5e566d4d-91b2-4175-9895-e73847d72ee4",
   "metadata": {},
   "outputs": [],
   "source": [
    "model = api.load(\"word2vec-google-news-300\")"
   ]
  },
  {
   "cell_type": "code",
   "execution_count": null,
   "id": "0fdeb17d-1d98-40b6-82cb-8a3d3a67b156",
   "metadata": {},
   "outputs": [],
   "source": [
    "decades = {\n",
    "    \"1960s\": [\"ut\",\"h\",\"marcus\",\"di\",\"py\",\"institute\",\"may\",\"social\",\"quarterly\",\"r\",\"ep\",\"mp\",\"study\",\"open\",\"taeuber\",\"journal\",\"relation\",\"vl\",\"holden\",\"deakin\",\"wos\",\"ti\",\"ke\",\"n\",\"bp\",\"santacruz\",\"american\",\"pt\",\"affair\",\"stegman\",\"education\",\"racial\",\"kaplan\",\"b\",\"housing\",\"planner\",\"schoop\",\"space\",\"ej\",\"af\",\"au\",\"er\",\"policy\",\"urban\",\"brook\",\"j\",\"sn\",\"raza\"],\n",
    "    \"1970s\": [\"ep\",\"j\",\"bp\",\"wos\",\"vl\",\"er\",\"ut\",\"pt\",\"py\",\"ti\",\"af\",\"urban\",\"racial\",\"di\",\"sn\",\"au\",\"education\",\"journal\",\"change\",\"study\",\"school\",\"university\",\"detroit\",\"l\",\"law\",\"ei\",\"regional\",\"anthropology\",\"housing\",\"segregation\",\"dl\",\"jm\",\"dh\",\"review\",\"jf\",\"e\",\"ri\",\"b\",\"anonymous\",\"science\",\"american\",\"g\",\"residential\",\"white\",\"economics\",\"neighborhood\",\"rh\",\"new\",\"r\",\"lawyer\"],\n",
    "    \"1980s\": [\"er\",\"af\",\"sn\",\"pd\",\"ti\",\"au\",\"urban\",\"ut\",\"pt\",\"vl\",\"py\",\"wos\",\"bp\",\"ep\",\"j\",\"race\",\"di\",\"study\",\"review\",\"class\",\"journal\",\"c\",\"r\",\"housing\",\"affair\",\"ei\",\"neighborhood\",\"economic\",\"politics\",\"education\",\"jm\",\"economics\",\"political\",\"k\",\"weekly\",\"l\",\"segregation\",\"galster\",\"change\",\"dec\",\"planning\",\"jt\",\"association\",\"league\",\"e\",\"anonymous\",\"international\",\"v\",\"jun\",\"research\"],\n",
    "    \"1990s\": [\"housing\",\"racial\",\"planning\",\"ti\",\"change\",\"af\",\"difference\",\"household\",\"urban\",\"policy\",\"spatial\",\"use\",\"research\",\"new\",\"social\",\"ab\",\"segregation\",\"group\",\"discrimination\",\"paper\",\"public\",\"state\",\"city\",\"result\",\"american\",\"study\",\"model\",\"article\",\"class\",\"characteristic\",\"white\",\"minority\",\"economic\",\"black\",\"area\",\"environmental\",\"diversity\",\"journal\",\"community\",\"evidence\",\"ethnic\",\"neighborhood\",\"provide\",\"income\",\"concern\",\"pattern\",\"level\",\"increase\",\"sn\",\"hispanic\"],\n",
    "    \"2000s\": [\"public\",\"racial\",\"research\",\"planning\",\"article\",\"housing\",\"journal\",\"ti\",\"minority\",\"development\",\"policy\",\"change\",\"use\",\"neighborhood\",\"social\",\"group\",\"urban\",\"park\",\"american\",\"study\",\"new\",\"diversity\",\"space\",\"community\",\"af\",\"ab\",\"ethnic\",\"city\",\"pattern\",\"economic\",\"state\",\"regional\",\"ri\",\"program\",\"also\",\"analysis\",\"planner\",\"literature\",\"result\",\"income\",\"area\",\"case\",\"paper\",\"segregation\",\"oi\",\"examines\",\"local\",\"place\",\"work\",\"association\"],\n",
    "    \"2010s\": [\"american\",\"planning\",\"ti\",\"journal\",\"racial\",\"research\",\"housing\",\"segregation\",\"af\",\"city\",\"urban\",\"new\",\"regional\",\"association\",\"class\",\"ab\",\"ri\",\"black\",\"education\",\"international\",\"study\",\"change\",\"practice\",\"neighborhood\",\"use\",\"state\",\"minority\",\"public\",\"development\",\"result\",\"article\",\"group\",\"income\",\"literature\",\"white\",\"analysis\",\"also\",\"sn\",\"show\",\"homeownership\",\"increase\",\"african\",\"zone\",\"oi\",\"equity\",\"pd\",\"space\",\"policy\",\"understand\",\"social\"],\n",
    "    \"2020s\": [\"planning\",\"journal\",\"ti\",\"af\",\"american\",\"black\",\"research\",\"practice\",\"urban\",\"planner\",\"study\",\"literature\",\"community\",\"association\",\"experience\",\"white\",\"theory\",\"oi\",\"policy\",\"justice\",\"minority\",\"education\",\"racial\",\"ab\",\"united\",\"housing\",\"neighborhood\",\"equity\",\"ri\",\"strategy\",\"inequality\",\"segregation\",\"sn\",\"problem\",\"ethnic\",\"analysis\",\"finding\",\"development\",\"use\",\"article\",\"address\",\"within\",\"state\",\"opportunity\",\"ei\",\"space\",\"examine\",\"among\",\"youth\",\"regional\"]\n",
    "}\n",
    "# \"1960s\" is actually pre-1970s. Labeling for convienence. "
   ]
  },
  {
   "cell_type": "code",
   "execution_count": null,
   "id": "cd42bd4e-885b-4889-802f-d90f95aa32c3",
   "metadata": {},
   "outputs": [],
   "source": [
    "decade_keys = list(decades.keys())\n",
    "similarity_results = {}"
   ]
  },
  {
   "cell_type": "code",
   "execution_count": null,
   "id": "94504444-2014-4b31-8668-ba698bd2b949",
   "metadata": {},
   "outputs": [],
   "source": [
    "for i in range(len(decade_keys) - 1):\n",
    "    decade1 = decade_keys[i]\n",
    "    decade2 = decade_keys[i + 1]\n",
    "    \n",
    "    vectors1 = [model[word] for word in decades[decade1] if word in model]\n",
    "    vectors2 = [model[word] for word in decades[decade2] if word in model]\n",
    "    \n",
    "    if vectors1 and vectors2:\n",
    "        avg_vector1 = np.mean(vectors1, axis=0).reshape(1, -1)\n",
    "        avg_vector2 = np.mean(vectors2, axis=0).reshape(1, -1)\n",
    "        similarity = cosine_similarity(avg_vector1, avg_vector2)[0][0]\n",
    "    else:\n",
    "        similarity = None \n",
    "\n",
    "    similarity_results[f\"{decade1} → {decade2}\"] = similarity"
   ]
  },
  {
   "cell_type": "code",
   "execution_count": null,
   "id": "b7fdaab2-cff2-4829-ac73-e3d21956d785",
   "metadata": {},
   "outputs": [],
   "source": [
    "for transition, score in similarity_results.items():\n",
    "    print(f\"Semantic shift from {transition}: {score:.3f}\")"
   ]
  },
  {
   "cell_type": "code",
   "execution_count": null,
   "id": "ed4070b0-821e-4636-bd91-b92a027e8cd6",
   "metadata": {},
   "outputs": [],
   "source": [
    "from sklearn.decomposition import PCA\n",
    "import matplotlib.pyplot as plt"
   ]
  },
  {
   "cell_type": "code",
   "execution_count": null,
   "id": "5e4e73f9-fc31-41a0-b515-6c3d1f492c2c",
   "metadata": {},
   "outputs": [],
   "source": [
    "decade_vectors = {}\n",
    "for decade, words in decades.items():\n",
    "    vectors = [model[word] for word in words if word in model]\n",
    "    if vectors:\n",
    "        avg_vector = np.mean(vectors, axis=0)\n",
    "        decade_vectors[decade] = avg_vector"
   ]
  },
  {
   "cell_type": "code",
   "execution_count": null,
   "id": "8b0a8fbf-b0f1-45fa-9c91-06a17c281f78",
   "metadata": {},
   "outputs": [],
   "source": [
    "pca = PCA(n_components=2)\n",
    "coords = pca.fit_transform(list(decade_vectors.values()))"
   ]
  },
  {
   "cell_type": "code",
   "execution_count": null,
   "id": "eb9c4f7e-7343-4982-888b-a70abbc48d88",
   "metadata": {},
   "outputs": [],
   "source": [
    "plt.figure(figsize=(6, 4))\n",
    "for (decade, (x, y)) in zip(decade_vectors.keys(), coords):\n",
    "    plt.scatter(x, y, label=decade)\n",
    "    plt.text(x+0.02, y+0.02, decade, fontsize=6)"
   ]
  }
 ],
 "metadata": {
  "kernelspec": {
   "display_name": "Python 3 (ipykernel)",
   "language": "python",
   "name": "python3"
  },
  "language_info": {
   "codemirror_mode": {
    "name": "ipython",
    "version": 3
   },
   "file_extension": ".py",
   "mimetype": "text/x-python",
   "name": "python",
   "nbconvert_exporter": "python",
   "pygments_lexer": "ipython3",
   "version": "3.12.3"
  }
 },
 "nbformat": 4,
 "nbformat_minor": 5
}
