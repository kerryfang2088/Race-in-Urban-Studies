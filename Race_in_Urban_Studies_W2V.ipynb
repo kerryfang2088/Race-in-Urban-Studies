{
 "cells": [
  {
   "cell_type": "code",
   "execution_count": 1,
   "id": "038275de-11c1-4438-8b9d-e955a8b67470",
   "metadata": {},
   "outputs": [],
   "source": [
    "import gensim\n",
    "import nltk\n",
    "from gensim.models import Word2Vec\n",
    "from nltk.tokenize import word_tokenize\n",
    "from nltk.stem import WordNetLemmatizer\n",
    "from nltk.corpus import wordnet, stopwords\n",
    "import gensim.corpora as corpora\n",
    "import os"
   ]
  },
  {
   "cell_type": "code",
   "execution_count": 2,
   "id": "a48bb6ba-30a1-403f-9ab1-163f14c4b077",
   "metadata": {},
   "outputs": [
    {
     "name": "stderr",
     "output_type": "stream",
     "text": [
      "[nltk_data] Downloading package punkt to\n",
      "[nltk_data]     C:\\Users\\kfang\\AppData\\Roaming\\nltk_data...\n",
      "[nltk_data]   Package punkt is already up-to-date!\n",
      "[nltk_data] Downloading package wordnet to\n",
      "[nltk_data]     C:\\Users\\kfang\\AppData\\Roaming\\nltk_data...\n",
      "[nltk_data]   Package wordnet is already up-to-date!\n",
      "[nltk_data] Downloading package averaged_perceptron_tagger to\n",
      "[nltk_data]     C:\\Users\\kfang\\AppData\\Roaming\\nltk_data...\n",
      "[nltk_data]   Package averaged_perceptron_tagger is already up-to-\n",
      "[nltk_data]       date!\n",
      "[nltk_data] Downloading package averaged_perceptron_tagger_eng to\n",
      "[nltk_data]     C:\\Users\\kfang\\AppData\\Roaming\\nltk_data...\n",
      "[nltk_data]   Package averaged_perceptron_tagger_eng is already up-to-\n",
      "[nltk_data]       date!\n",
      "[nltk_data] Downloading package stopwords to\n",
      "[nltk_data]     C:\\Users\\kfang\\AppData\\Roaming\\nltk_data...\n",
      "[nltk_data]   Package stopwords is already up-to-date!\n"
     ]
    },
    {
     "data": {
      "text/plain": [
       "True"
      ]
     },
     "execution_count": 2,
     "metadata": {},
     "output_type": "execute_result"
    }
   ],
   "source": [
    "nltk.download(\"punkt\")\n",
    "nltk.download(\"wordnet\")\n",
    "nltk.download(\"averaged_perceptron_tagger\")\n",
    "nltk.download('averaged_perceptron_tagger_eng')\n",
    "nltk.download(\"stopwords\")"
   ]
  },
  {
   "cell_type": "code",
   "execution_count": 3,
   "id": "373ad346-262e-4cb2-96ea-a7cce9963411",
   "metadata": {},
   "outputs": [],
   "source": [
    "lemmatizer = WordNetLemmatizer()\n",
    "stop_words = set(stopwords.words(\"english\"))"
   ]
  },
  {
   "cell_type": "code",
   "execution_count": 4,
   "id": "f98bc21f-b0df-472c-807c-a8927770d81e",
   "metadata": {},
   "outputs": [],
   "source": [
    "def get_wordnet_pos(word):\n",
    "    tag = nltk.pos_tag([word])[0][1][0].upper()\n",
    "    tag_dict = {\"J\": wordnet.ADJ, \"N\": wordnet.NOUN, \"V\": wordnet.VERB, \"R\": wordnet.ADV}\n",
    "    return tag_dict.get(tag, wordnet.NOUN) "
   ]
  },
  {
   "cell_type": "code",
   "execution_count": 5,
   "id": "0baba418-4d97-4965-83a9-2c7b5163cb1d",
   "metadata": {},
   "outputs": [],
   "source": [
    "os.chdir(\"C:\\\\Users\\\\*link to the file*\")"
   ]
  },
  {
   "cell_type": "code",
   "execution_count": 7,
   "id": "9483001f-96cb-43d4-ab76-9a3a34429c43",
   "metadata": {},
   "outputs": [
    {
     "name": "stdout",
     "output_type": "stream",
     "text": [
      "Merging complete! Output saved as Race_2020s.txt\n"
     ]
    }
   ],
   "source": [
    "output_file = \"Race_2020s.txt\"\n",
    "with open(output_file, \"w\", encoding=\"utf-8\") as outfile:\n",
    "    for start in range(1, 1001, 1000):\n",
    "        end = min(start + 999, 1414) \n",
    "        filename = f\"savedrecs{start}-{end}.txt\"\n",
    "        try:\n",
    "            with open(filename, \"r\", encoding=\"utf-8\") as infile:\n",
    "                outfile.write(infile.read() + \"\\n\") \n",
    "        except FileNotFoundError:\n",
    "            print(f\"Warning: {filename} not found, skipping...\")\n",
    "\n",
    "print(f\"Merging complete! Output saved as {output_file}\")"
   ]
  },
  {
   "cell_type": "code",
   "execution_count": null,
   "id": "53cb89e5-860a-4e19-a8e0-eb2f8ca271d3",
   "metadata": {},
   "outputs": [],
   "source": [
    "file_path = \"Race_2020s.txt\" #do this for each decade separately\n",
    "with open(file_path, \"r\", encoding=\"utf-8\") as f:\n",
    "    text = f.read()"
   ]
  },
  {
   "cell_type": "code",
   "execution_count": null,
   "id": "619b6474-2596-4dae-b6f7-a8ed3fdc55c2",
   "metadata": {},
   "outputs": [],
   "source": [
    "tokens = word_tokenize(text.lower())  \n",
    "tokens = [word for word in tokens if word.isalpha()]  \n",
    "filtered_tokens = [word for word in tokens if word not in stop_words]"
   ]
  },
  {
   "cell_type": "code",
   "execution_count": null,
   "id": "5db363d7-f8a3-4abf-916b-d1a685c2523c",
   "metadata": {},
   "outputs": [],
   "source": [
    "lemmatized_tokens = [lemmatizer.lemmatize(word, get_wordnet_pos(word)) for word in filtered_tokens]"
   ]
  },
  {
   "cell_type": "code",
   "execution_count": null,
   "id": "27f029a5-f9d3-4345-a3f6-add4446e9a9d",
   "metadata": {},
   "outputs": [],
   "source": [
    "sentences = [lemmatized_tokens] "
   ]
  },
  {
   "cell_type": "code",
   "execution_count": null,
   "id": "45dcc1c8-417f-4d49-9a93-38712f698aeb",
   "metadata": {},
   "outputs": [],
   "source": [
    "model = Word2Vec(sentences, vector_size=100, window=5, min_count=2, workers=4)"
   ]
  },
  {
   "cell_type": "code",
   "execution_count": null,
   "id": "707f294e-b19f-4d0b-a6c7-5f73b9e09f9c",
   "metadata": {},
   "outputs": [],
   "source": [
    "word = \"race\"\n",
    "if word in model.wv:\n",
    "    top_similar_words = model.wv.most_similar(word, topn=25)\n",
    "    print(f\"Top 25 words similar to '{word}':\")\n",
    "    for rank, (similar_word, similarity) in enumerate(top_similar_words, start=1):\n",
    "        print(f\"{rank}. {similar_word} ({similarity:.4f})\")\n",
    "else:\n",
    "    print(f\"'{word}' is not in the vocabulary.\")"
   ]
  }
 ],
 "metadata": {
  "kernelspec": {
   "display_name": "Python 3 (ipykernel)",
   "language": "python",
   "name": "python3"
  },
  "language_info": {
   "codemirror_mode": {
    "name": "ipython",
    "version": 3
   },
   "file_extension": ".py",
   "mimetype": "text/x-python",
   "name": "python",
   "nbconvert_exporter": "python",
   "pygments_lexer": "ipython3",
   "version": "3.12.3"
  }
 },
 "nbformat": 4,
 "nbformat_minor": 5
}
