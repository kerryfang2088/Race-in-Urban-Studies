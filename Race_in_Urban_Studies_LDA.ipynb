{
 "cells": [
  {
   "cell_type": "code",
   "execution_count": 1,
   "id": "df6e583d-0c5a-4c66-a682-9a30b794a84c",
   "metadata": {},
   "outputs": [],
   "source": [
    "import re\n",
    "import nltk\n",
    "import gensim\n",
    "import gensim.corpora as corpora\n",
    "from nltk.corpus import stopwords, wordnet\n",
    "from nltk.tokenize import word_tokenize\n",
    "from nltk.stem import WordNetLemmatizer\n",
    "from gensim.models import TfidfModel\n",
    "import os\n",
    "from collections import Counter\n",
    "import numpy as np"
   ]
  },
  {
   "cell_type": "code",
   "execution_count": 2,
   "id": "14a00c37-ce7f-42b1-b1fc-3917b059d0dc",
   "metadata": {},
   "outputs": [
    {
     "name": "stderr",
     "output_type": "stream",
     "text": [
      "[nltk_data] Downloading package punkt to\n",
      "[nltk_data]     C:\\Users\\kfang\\AppData\\Roaming\\nltk_data...\n",
      "[nltk_data]   Package punkt is already up-to-date!\n",
      "[nltk_data] Downloading package stopwords to\n",
      "[nltk_data]     C:\\Users\\kfang\\AppData\\Roaming\\nltk_data...\n",
      "[nltk_data]   Package stopwords is already up-to-date!\n",
      "[nltk_data] Downloading package wordnet to\n",
      "[nltk_data]     C:\\Users\\kfang\\AppData\\Roaming\\nltk_data...\n",
      "[nltk_data]   Package wordnet is already up-to-date!\n",
      "[nltk_data] Downloading package averaged_perceptron_tagger to\n",
      "[nltk_data]     C:\\Users\\kfang\\AppData\\Roaming\\nltk_data...\n",
      "[nltk_data]   Package averaged_perceptron_tagger is already up-to-\n",
      "[nltk_data]       date!\n"
     ]
    },
    {
     "data": {
      "text/plain": [
       "True"
      ]
     },
     "execution_count": 2,
     "metadata": {},
     "output_type": "execute_result"
    }
   ],
   "source": [
    "nltk.download('punkt')\n",
    "nltk.download('stopwords')\n",
    "nltk.download('wordnet')\n",
    "nltk.download('averaged_perceptron_tagger')"
   ]
  },
  {
   "cell_type": "code",
   "execution_count": null,
   "id": "0f47bbba-1d78-46a3-849c-4c036cd0cd79",
   "metadata": {},
   "outputs": [],
   "source": [
    "os.chdir(\"C:\\\\Users\\\\*link to the file*\")"
   ]
  },
  {
   "cell_type": "code",
   "execution_count": null,
   "id": "1bbd48df-4550-4cde-818d-6e6fbf720b6d",
   "metadata": {},
   "outputs": [],
   "source": [
    "file_path = \"Race_2020s.txt\" #do this separately for each decade\n",
    "with open(file_path, \"r\", encoding=\"utf-8\") as f:\n",
    "    text = f.read()"
   ]
  },
  {
   "cell_type": "code",
   "execution_count": null,
   "id": "ea9ff924-f8ee-4cff-98a5-ffb9cc858a2c",
   "metadata": {},
   "outputs": [],
   "source": [
    "paragraphs = [p.strip() for p in text.split(\"\\n\") if p.strip()]\n",
    "stop_words = set(stopwords.words(\"english\"))\n",
    "lemmatizer = WordNetLemmatizer()"
   ]
  },
  {
   "cell_type": "code",
   "execution_count": null,
   "id": "2fbb913a-241f-47d2-8531-b33cd831521e",
   "metadata": {},
   "outputs": [],
   "source": [
    "def get_wordnet_pos(word):\n",
    "    \"\"\"Map POS tag to WordNet POS\"\"\"\n",
    "    tag = nltk.pos_tag([word])[0][1][0].upper()\n",
    "    tag_dict = {\"J\": wordnet.ADJ,\n",
    "                \"N\": wordnet.NOUN,\n",
    "                \"V\": wordnet.VERB,\n",
    "                \"R\": wordnet.ADV}\n",
    "    return tag_dict.get(tag, wordnet.NOUN)"
   ]
  },
  {
   "cell_type": "code",
   "execution_count": null,
   "id": "c733bade-fa12-4ad8-81c5-c79d8296704a",
   "metadata": {},
   "outputs": [],
   "source": [
    "def preprocess(doc):\n",
    "    doc = doc.lower()\n",
    "    doc = re.sub(r'[^a-z\\s]', '', doc)\n",
    "    tokens = word_tokenize(doc)\n",
    "    tokens = [w for w in tokens if w not in stop_words and len(w) > 2]\n",
    "    lemmatized = [lemmatizer.lemmatize(w, get_wordnet_pos(w)) for w in tokens]\n",
    "    return lemmatized"
   ]
  },
  {
   "cell_type": "code",
   "execution_count": null,
   "id": "4a525a6a-b70e-49a1-9dd8-8a575d98bd7c",
   "metadata": {},
   "outputs": [],
   "source": [
    "texts = [preprocess(p) for p in paragraphs]\n",
    "dictionary = corpora.Dictionary(texts)\n",
    "corpus = [dictionary.doc2bow(text) for text in texts]\n",
    "tfidf = TfidfModel(corpus, id2word=dictionary)"
   ]
  },
  {
   "cell_type": "code",
   "execution_count": null,
   "id": "10384429-be6d-4399-9eed-0441c5447edc",
   "metadata": {},
   "outputs": [],
   "source": [
    "word_tfidf = {}\n",
    "for doc in corpus:\n",
    "    for word_id, freq in tfidf[doc]:\n",
    "        word_tfidf[word_id] = word_tfidf.get(word_id, []) + [freq]"
   ]
  },
  {
   "cell_type": "code",
   "execution_count": null,
   "id": "bff62c6f-f61d-451a-b392-c5514bda07fa",
   "metadata": {},
   "outputs": [],
   "source": [
    "word_avg_tfidf = {word_id: sum(vals)/len(vals) for word_id, vals in word_tfidf.items()}\n",
    "scores = list(word_avg_tfidf.values())\n",
    "low_thresh = sorted(scores)[int(len(scores)*0.05)]\n",
    "good_ids = {word_id for word_id, score in word_avg_tfidf.items()\n",
    "            if low_thresh <= score }\n",
    "filtered_texts = [[w for w in text if dictionary.token2id[w] in good_ids] for text in texts]\n",
    "dictionary = corpora.Dictionary(filtered_texts)\n",
    "corpus = [dictionary.doc2bow(text) for text in filtered_texts]"
   ]
  },
  {
   "cell_type": "code",
   "execution_count": null,
   "id": "b7771767-18b6-4dc8-ab7b-9e57420a31d4",
   "metadata": {},
   "outputs": [],
   "source": [
    "lda_model = gensim.models.LdaModel(\n",
    "    corpus=corpus,\n",
    "    id2word=dictionary,\n",
    "    num_topics=12,    #obtained for statistical testing and change by decade \n",
    "    random_state=42,\n",
    "    passes=10,\n",
    "    alpha='auto'\n",
    ")"
   ]
  },
  {
   "cell_type": "code",
   "execution_count": null,
   "id": "3571bfd8-0855-4974-9ad3-628fd31b55e2",
   "metadata": {},
   "outputs": [],
   "source": [
    "for idx, topic in lda_model.print_topics(num_words=15):\n",
    "    print(f\"Topic {idx}: {topic}\")"
   ]
  },
  {
   "cell_type": "code",
   "execution_count": null,
   "id": "47318006-5012-4348-b017-18c4137485d9",
   "metadata": {},
   "outputs": [],
   "source": [
    "topic_totals = np.zeros(lda_model.num_topics)\n",
    "for doc_bow in corpus:\n",
    "    topic_probs = lda_model.get_document_topics(doc_bow, minimum_probability=0)\n",
    "    for topic_id, prob in topic_probs:\n",
    "        topic_totals[topic_id] += prob"
   ]
  },
  {
   "cell_type": "code",
   "execution_count": null,
   "id": "c255b357-99b3-45d6-be5a-d2cd4d9084ce",
   "metadata": {},
   "outputs": [],
   "source": [
    "topic_percentages = topic_totals / len(corpus) * 100\n",
    "print(\"\\n--- Topic Distribution (Probabilistic Shares) ---\")\n",
    "for topic_id, perc in enumerate(topic_percentages):\n",
    "    print(f\"Topic {topic_id}: {perc:.2f}% of corpus\")"
   ]
  }
 ],
 "metadata": {
  "kernelspec": {
   "display_name": "Python 3 (ipykernel)",
   "language": "python",
   "name": "python3"
  },
  "language_info": {
   "codemirror_mode": {
    "name": "ipython",
    "version": 3
   },
   "file_extension": ".py",
   "mimetype": "text/x-python",
   "name": "python",
   "nbconvert_exporter": "python",
   "pygments_lexer": "ipython3",
   "version": "3.12.3"
  }
 },
 "nbformat": 4,
 "nbformat_minor": 5
}
