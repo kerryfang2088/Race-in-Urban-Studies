{
 "cells": [
  {
   "cell_type": "code",
   "execution_count": null,
   "id": "98d70852-26a0-4ac2-940e-91352255d986",
   "metadata": {},
   "outputs": [],
   "source": [
    "import torch\n",
    "from transformers import AutoTokenizer, AutoModelForSequenceClassification\n",
    "import numpy as np\n",
    "import os"
   ]
  },
  {
   "cell_type": "code",
   "execution_count": null,
   "id": "76905cb0-9bca-4cf4-8d40-cf40b12bcb9b",
   "metadata": {},
   "outputs": [],
   "source": [
    "def load_dehatebert():\n",
    "    model_name = \"Hate-speech-CNERG/dehatebert-mono-english\"\n",
    "    tokenizer = AutoTokenizer.from_pretrained(model_name)\n",
    "    model = AutoModelForSequenceClassification.from_pretrained(model_name)\n",
    "    return tokenizer, model"
   ]
  },
  {
   "cell_type": "code",
   "execution_count": null,
   "id": "71cece69-f980-4706-86c4-3862b1cfb9bd",
   "metadata": {},
   "outputs": [],
   "source": [
    "def chunk_text(text, max_tokens=500):\n",
    "    words = text.split()\n",
    "    return [\" \".join(words[i:i + max_tokens]) for i in range(0, len(words), max_tokens)]"
   ]
  },
  {
   "cell_type": "code",
   "execution_count": null,
   "id": "5facea4f-c8ac-4d1b-b6f8-8cf224a78ee6",
   "metadata": {},
   "outputs": [],
   "source": [
    "def analyze_text_dehatebert(text, tokenizer, model):\n",
    "    text_chunks = chunk_text(text)\n",
    "    scores = []\n",
    "    \n",
    "    for chunk in text_chunks:\n",
    "        inputs = tokenizer(chunk, padding=True, truncation=True, max_length=512, return_tensors=\"pt\")\n",
    "        with torch.no_grad():\n",
    "            outputs = model(**inputs)\n",
    "        probs = torch.nn.functional.softmax(outputs.logits, dim=1).numpy()\n",
    "        hate_prob = probs[:, 1].mean()  \n",
    "        scores.append(hate_prob)\n",
    "\n",
    "    return np.mean(scores)"
   ]
  },
  {
   "cell_type": "code",
   "execution_count": null,
   "id": "82b9563d-0b3f-482c-97f4-053759eb5f02",
   "metadata": {},
   "outputs": [],
   "source": [
    "def analyze_single_file(file_path):\n",
    "    tokenizer, model = load_dehatebert()\n",
    "    \n",
    "    with open(file_path, \"r\", encoding=\"utf-8\") as f:\n",
    "        text = f.read()\n",
    "    \n",
    "    hate_score = analyze_text_dehatebert(text, tokenizer, model)\n",
    "    print(f\"Hate Speech Probability for {file_path}: {hate_score:.4f}\")\n",
    "    return hate_score"
   ]
  },
  {
   "cell_type": "code",
   "execution_count": null,
   "id": "d6e95cce-ec9d-4499-9e2d-c1dcb240e55d",
   "metadata": {},
   "outputs": [],
   "source": [
    "os.chdir(\"C:\\\\Users\\\\*link to file*\")\n",
    "if __name__ == \"__main__\":\n",
    "    file_path = \"Race_2020s.txt\"\n",
    "    analyze_single_file(file_path)"
   ]
  }
 ],
 "metadata": {
  "kernelspec": {
   "display_name": "Python 3 (ipykernel)",
   "language": "python",
   "name": "python3"
  },
  "language_info": {
   "codemirror_mode": {
    "name": "ipython",
    "version": 3
   },
   "file_extension": ".py",
   "mimetype": "text/x-python",
   "name": "python",
   "nbconvert_exporter": "python",
   "pygments_lexer": "ipython3",
   "version": "3.12.3"
  }
 },
 "nbformat": 4,
 "nbformat_minor": 5
}
